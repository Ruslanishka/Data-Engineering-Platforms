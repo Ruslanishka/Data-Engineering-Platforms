{
 "cells": [
  {
   "cell_type": "code",
   "execution_count": 53,
   "metadata": {},
   "outputs": [],
   "source": [
    "import pandas as pd\n",
    "import matplotlib.pyplot as plt\n",
    "import seaborn as sns"
   ]
  },
  {
   "cell_type": "code",
   "execution_count": 54,
   "metadata": {},
   "outputs": [],
   "source": [
    "# Загружаем данные из CSV-файла\n",
    "data = pd.read_csv('data.csv')"
   ]
  },
  {
   "cell_type": "code",
   "execution_count": 55,
   "metadata": {},
   "outputs": [],
   "source": [
    "# Добавил игнорирование первого столбца, так как в нем хранится время прохождения опроса, которое не надо анализировать\n",
    "data = data.iloc[:, 1:]"
   ]
  },
  {
   "cell_type": "code",
   "execution_count": 56,
   "metadata": {},
   "outputs": [],
   "source": [
    "# Функция для анализа вопросов с одним вариантом ответа\n",
    "def analyze_single_choice(responses, title):\n",
    "    # Подсчитываем частоту каждого ответа\n",
    "    counts = responses.value_counts()\n",
    "    print(f\"\\nАнализ вопроса: {title}\")\n",
    "    print(counts)\n",
    "\n",
    "    # Визуализация\n",
    "    plt.figure(figsize=(8, 6))\n",
    "    sns.barplot(x=counts.values, y=counts.index, palette='viridis')\n",
    "    plt.title(title)\n",
    "    plt.xlabel('Количество ответов')\n",
    "    plt.ylabel('Варианты ответов')\n",
    "    plt.show()"
   ]
  },
  {
   "cell_type": "code",
   "execution_count": 57,
   "metadata": {},
   "outputs": [],
   "source": [
    "# Функция для анализа вопросов с множественным выбором\n",
    "def analyze_multiple_choice(responses, title):\n",
    "    # Разделяем ответы по точке с запятой и создаем список всех ответов\n",
    "    all_responses = responses.dropna().str.split(';').explode()\n",
    "    \n",
    "    # Подсчитываем частоту каждого ответа\n",
    "    counts = all_responses.value_counts()\n",
    "    print(f\"\\nАнализ вопроса: {title}\")\n",
    "    print(counts)\n",
    "\n",
    "    # Визуализация\n",
    "    plt.figure(figsize=(8, 6))\n",
    "    sns.barplot(x=counts.values, y=counts.index, palette='viridis')\n",
    "    plt.title(title)\n",
    "    plt.xlabel('Количество ответов')\n",
    "    plt.ylabel('Варианты ответов')\n",
    "    plt.show()"
   ]
  },
  {
   "cell_type": "code",
   "execution_count": 58,
   "metadata": {},
   "outputs": [],
   "source": [
    "# Функция для анализа вопросов с шкалой\n",
    "def analyze_scale_question(responses, title):\n",
    "    mean_value = responses.mean()\n",
    "    distribution = responses.value_counts().sort_index()\n",
    "    print(f\"\\nАнализ вопроса: {title}\")\n",
    "    print(f\"Среднее значение: {mean_value:.2f}\")\n",
    "    print(distribution)\n",
    "\n",
    "    plt.figure(figsize=(8, 6))\n",
    "    sns.countplot(x=responses, palette='coolwarm', order=sorted(responses.unique()))\n",
    "    plt.title(title)\n",
    "    plt.xlabel('Оценка')\n",
    "    plt.ylabel('Количество ответов')\n",
    "    plt.show()\n"
   ]
  },
  {
   "cell_type": "code",
   "execution_count": 59,
   "metadata": {},
   "outputs": [],
   "source": [
    "# Функция для автоматического анализа всех вопросов\n",
    "def analyze_all_questions(data):\n",
    "    for column in data.columns:\n",
    "        print(f\"\\n=== Анализ вопроса: {column} ===\")\n",
    "        \n",
    "        # Определяем тип вопроса\n",
    "        if data[column].dtype == 'object':  # Если данные текстовые\n",
    "            # Проверяем, есть ли разделители (точка с запятой) для множественного выбора\n",
    "            if data[column].dropna().str.contains(';').any():\n",
    "                analyze_multiple_choice(data[column], column)\n",
    "            else:\n",
    "                # Если текстовые данные без разделителей, считаем это вопросом с одним вариантом ответа\n",
    "                analyze_single_choice(data[column], column)\n",
    "        elif pd.api.types.is_numeric_dtype(data[column]):  # Если данные числовые\n",
    "            analyze_scale_question(data[column], column)\n",
    "        else:\n",
    "            print(\"Неизвестный тип данных для анализа.\")"
   ]
  },
  {
   "cell_type": "code",
   "execution_count": null,
   "metadata": {},
   "outputs": [],
   "source": [
    "# Запускаем автоматический анализ\n",
    "analyze_all_questions(data)"
   ]
  }
 ],
 "metadata": {
  "kernelspec": {
   "display_name": "Python 3",
   "language": "python",
   "name": "python3"
  },
  "language_info": {
   "codemirror_mode": {
    "name": "ipython",
    "version": 3
   },
   "file_extension": ".py",
   "mimetype": "text/x-python",
   "name": "python",
   "nbconvert_exporter": "python",
   "pygments_lexer": "ipython3",
   "version": "3.12.9"
  }
 },
 "nbformat": 4,
 "nbformat_minor": 2
}
